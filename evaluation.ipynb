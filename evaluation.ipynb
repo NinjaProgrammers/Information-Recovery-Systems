{
 "cells": [
  {
   "cell_type": "code",
   "execution_count": 51,
   "metadata": {},
   "outputs": [],
   "source": [
    "from statistics import mean\n",
    "from time import time\n",
    "import numpy as np\n",
    "import matplotlib.pyplot as plt\n",
    "\n",
    "from core.fileProcessing.Loader import LoadCranDataset\n",
    "from core.basics.Vectorizer import Vectorizer\n",
    "from core.boolean.BooleanModel import BooleanModel\n",
    "from core.vectorial.VectorialModel import VectorialModel\n",
    "from core.probabilistic.ProbabilisticModel import ProbabilisticModel"
   ]
  },
  {
   "cell_type": "code",
   "execution_count": 2,
   "metadata": {},
   "outputs": [],
   "source": [
    "documents, consults = LoadCranDataset(\"./Test Collections/Cran/\")"
   ]
  },
  {
   "cell_type": "code",
   "execution_count": 3,
   "metadata": {},
   "outputs": [],
   "source": [
    "def evaluate_model(relevant_fun, consult_fun, beta2=2):\n",
    "    precision = []\n",
    "    recall = []\n",
    "    f = []\n",
    "    f1 = []\n",
    "    fallout = []\n",
    "    tme = []\n",
    "    mp = []\n",
    "    \n",
    "    for q in consults:\n",
    "        relevant = relevant_fun(q)\n",
    "        \n",
    "        begTime = time()\n",
    "        recovered = consult_fun(q)\n",
    "        timeElapsed = time() - begTime\n",
    "        \n",
    "        founded, s = 0, 0\n",
    "        for i, d in enumerate(recovered):\n",
    "            if d.id in relevant:\n",
    "                founded += 1\n",
    "                s += founded / (i + 1)\n",
    "        if len(relevant) > 0: mp.append(s / len(relevant))\n",
    "\n",
    "        rr = sum((1 if i.id in relevant else 0 for i in recovered))\n",
    "        ri = len(recovered) - rr\n",
    "        nr = len(relevant) - rr\n",
    "        ni = len(documents) - ri - nr - rr\n",
    "        \n",
    "        if len(recovered) > 0: p = rr / (rr + ri)\n",
    "        else: p = 1 if len(relevant) == 0 else 0\n",
    "        precision.append(p)\n",
    "            \n",
    "        if len(relevant) > 0: r = rr / (rr + nr)\n",
    "        else: r = 1 if len(recovered) == 0 else 0\n",
    "        recall.append(r)\n",
    "        \n",
    "        if p > 0 and r > 0: \n",
    "            f.append((1 + beta2) / (1 / p + beta2 / r))\n",
    "            f1.append(2 / (1 / p + 1 / r))\n",
    "            \n",
    "        if ri + ni > 0:\n",
    "            fallout.append(ri / (ri + ni))\n",
    "        \n",
    "        tme.append(timeElapsed)\n",
    "    return precision, recall, f, \\\n",
    "           f1, fallout, tme, mp"
   ]
  },
  {
   "cell_type": "markdown",
   "metadata": {},
   "source": [
    "# Boolean model"
   ]
  },
  {
   "cell_type": "code",
   "execution_count": 57,
   "metadata": {},
   "outputs": [],
   "source": [
    "booleanModel = BooleanModel(documents)"
   ]
  },
  {
   "cell_type": "code",
   "execution_count": 22,
   "metadata": {},
   "outputs": [
    {
     "name": "stdout",
     "output_type": "stream",
     "text": [
      "Precision: 0.6875555555555556\n",
      "Recall: 0.6948148148148148\n",
      "F metric: 0.9879173904651611\n",
      "F1 metric: 0.9869578404610252\n",
      "Fallout: 0.00011437198265563506\n",
      "Time: 0.0792293824089898 seg\n"
     ]
    }
   ],
   "source": [
    "relevant_fun = lambda q: [i[1] for i in q.relevant if i[2] == 1]\n",
    "consult_fun = booleanModel.Consult\n",
    "p, r, f, f1, fl, t, _  = evaluate_model(relevant_fun, consult_fun)\n",
    "\n",
    "print(\"Precision:\", mean(p))\n",
    "print(\"Recall:\", mean(r))\n",
    "print(\"F metric:\", mean(f))\n",
    "print(\"F1 metric:\", mean(f1))\n",
    "print(\"Fallout:\", mean(fl))\n",
    "print(\"Time:\", mean(t), \"seg\")\n"
   ]
  },
  {
   "cell_type": "code",
   "execution_count": 23,
   "metadata": {},
   "outputs": [
    {
     "name": "stdout",
     "output_type": "stream",
     "text": [
      "Precision: 0.02822222222222222\n",
      "Recall: 0.011764870931537597\n",
      "F metric: 0.31856802085382646\n",
      "F1 metric: 0.3462740726167836\n",
      "Fallout: 7.322982235393498e-05\n",
      "Time: 0.07944664743211534 seg\n"
     ]
    }
   ],
   "source": [
    "relevant_fun = lambda q: [i[1] for i in q.relevant]\n",
    "consult_fun = booleanModel.Consult\n",
    "p, r, f, f1, fl, t, _  = evaluate_model(relevant_fun, consult_fun)\n",
    "\n",
    "print(\"Precision:\", mean(p))\n",
    "print(\"Recall:\", mean(r))\n",
    "print(\"F metric:\", mean(f))\n",
    "print(\"F1 metric:\", mean(f1))\n",
    "print(\"Fallout:\", mean(fl))\n",
    "print(\"Time:\", mean(t), \"seg\")"
   ]
  },
  {
   "cell_type": "code",
   "execution_count": 28,
   "metadata": {},
   "outputs": [
    {
     "name": "stdout",
     "output_type": "stream",
     "text": [
      "Time: 0.2691238117218018 seg\n",
      "Mean Average Precision: 0.17661912030690527\n"
     ]
    }
   ],
   "source": [
    "relevant_fun = lambda q: [i[1] for i in q.relevant if i[2] == 1]\n",
    "consult_fun = lambda q: booleanModel.Consult(q, relaxed=True)\n",
    "_, _, _, _, _, t, m  = evaluate_model(relevant_fun, consult_fun)\n",
    "\n",
    "print(\"Time:\", mean(t), \"seg\")\n",
    "print(\"Mean Average Precision:\", mean(m))"
   ]
  },
  {
   "cell_type": "code",
   "execution_count": 14,
   "metadata": {},
   "outputs": [
    {
     "data": {
      "image/png": "[encoded data removed]",
      "text/plain": [
       "<Figure size 432x288 with 1 Axes>"
      ]
     },
     "metadata": {
      "needs_background": "light"
     },
     "output_type": "display_data"
    },
    {
     "data": {
      "image/png": "[encoded data removed]",
      "text/plain": [
       "<Figure size 432x288 with 1 Axes>"
      ]
     },
     "metadata": {
      "needs_background": "light"
     },
     "output_type": "display_data"
    }
   ],
   "source": [
    "x = np.arange(3, 15)\n",
    "ps, rs, fs, f1s, fls = [], [], [], [], []\n",
    "\n",
    "for i in x:\n",
    "    relevant_fun = lambda q: [i[1] for i in q.relevant if i[2] == 1]\n",
    "    consult_fun = lambda q: booleanModel.Consult(q, size=i, relaxed=True)\n",
    "    p, r, f, f1, fl, _, _  = evaluate_model(relevant_fun, consult_fun)\n",
    "    ps.append(mean(p))\n",
    "    rs.append(mean(r))\n",
    "    fs.append(mean(f))\n",
    "    f1s.append(mean(f1))\n",
    "    fls.append(mean(fl))\n",
    "\n",
    "plt.plot(x, ps, 'b', label='Precision')\n",
    "plt.plot(x, rs, 'r', label='Recall')\n",
    "plt.plot(x, fs, 'y', label='F metric')\n",
    "plt.plot(x, f1s, 'g', label='F1 metric')\n",
    "plt.legend()\n",
    "\n",
    "plt.figure()\n",
    "plt.plot(x, fls, 'b', label='Fallout')\n",
    "plt.legend()\n",
    "plt.show()"
   ]
  },
  {
   "cell_type": "code",
   "execution_count": 58,
   "metadata": {},
   "outputs": [
    {
     "name": "stdout",
     "output_type": "stream",
     "text": [
      "Precision: 0.023111111111111114\n",
      "Recall: 0.06555555555555556\n",
      "F metric: 0.3854915138337598\n",
      "F1 metric: 0.327856486947396\n",
      "Fallout: 0.003490197309970296\n",
      "Time: 0.2649965551164415 seg\n"
     ]
    }
   ],
   "source": [
    "relevant_fun = lambda q: [i[1] for i in q.relevant if i[2] == 1]\n",
    "consult_fun = lambda q: booleanModel.Consult(q, size=5, relaxed=True)\n",
    "p, r, f, f1, fl, t, _  = evaluate_model(relevant_fun, consult_fun)\n",
    "\n",
    "print(\"Precision:\", mean(p))\n",
    "print(\"Recall:\", mean(r))\n",
    "print(\"F metric:\", mean(f))\n",
    "print(\"F1 metric:\", mean(f1))\n",
    "print(\"Fallout:\", mean(fl))\n",
    "print(\"Time:\", mean(t), \"seg\")"
   ]
  },
  {
   "cell_type": "markdown",
   "metadata": {},
   "source": [
    "# Vectorial model"
   ]
  },
  {
   "cell_type": "code",
   "execution_count": 60,
   "metadata": {},
   "outputs": [],
   "source": [
    "vectorialModel = VectorialModel(documents)"
   ]
  },
  {
   "cell_type": "code",
   "execution_count": 34,
   "metadata": {},
   "outputs": [
    {
     "name": "stdout",
     "output_type": "stream",
     "text": [
      "Time: 0.029442757500542534 seg\n",
      "Mean Average Precision: 0.41295538417786964\n"
     ]
    }
   ],
   "source": [
    "relevant_fun = lambda q: [i[1] for i in q.relevant]\n",
    "consult_fun = vectorialModel.Consult\n",
    "_, _, _, _, _, t, m  = evaluate_model(relevant_fun, consult_fun)\n",
    "\n",
    "print(\"Time:\", mean(t), \"seg\")\n",
    "print(\"Mean Average Precision:\", mean(m))"
   ]
  },
  {
   "cell_type": "code",
   "execution_count": 38,
   "metadata": {},
   "outputs": [
    {
     "data": {
      "image/png": "[encoded data removed]",
      "text/plain": [
       "<Figure size 432x288 with 1 Axes>"
      ]
     },
     "metadata": {
      "needs_background": "light"
     },
     "output_type": "display_data"
    },
    {
     "data": {
      "image/png": "[encoded data removed]",
      "text/plain": [
       "<Figure size 432x288 with 1 Axes>"
      ]
     },
     "metadata": {
      "needs_background": "light"
     },
     "output_type": "display_data"
    }
   ],
   "source": [
    "x = np.arange(3, 20)\n",
    "ps, rs, fs, f1s, fls = [], [], [], [], []\n",
    "\n",
    "for i in x:\n",
    "    relevant_fun = lambda q: [i[1] for i in q.relevant]\n",
    "    consult_fun = lambda q: vectorialModel.Consult(q, i)\n",
    "    p, r, f, f1, fl, _, _  = evaluate_model(relevant_fun, consult_fun)\n",
    "    ps.append(mean(p))\n",
    "    rs.append(mean(r))\n",
    "    fs.append(mean(f))\n",
    "    f1s.append(mean(f1))\n",
    "    fls.append(mean(fl))\n",
    "\n",
    "plt.plot(x, ps, 'b', label='Precision')\n",
    "plt.plot(x, rs, 'r', label='Recall')\n",
    "plt.plot(x, fs, 'y', label='F metric')\n",
    "plt.plot(x, f1s, 'g', label='F1 metric')\n",
    "plt.legend()\n",
    "\n",
    "plt.figure()\n",
    "plt.plot(x, fls, 'b', label='Fallout')\n",
    "plt.legend()\n",
    "plt.show()"
   ]
  },
  {
   "cell_type": "code",
   "execution_count": 36,
   "metadata": {},
   "outputs": [
    {
     "name": "stdout",
     "output_type": "stream",
     "text": [
      "Precision: 0.37587301587301586\n",
      "Recall: 0.3863849319101161\n",
      "F metric: 0.3837246580161066\n",
      "F1 metric: 0.37888180812996874\n",
      "Fallout: 0.0031370750684336533\n",
      "Time: 0.030347710715399847 seg\n"
     ]
    }
   ],
   "source": [
    "relevant_fun = lambda q: [i[1] for i in q.relevant]\n",
    "consult_fun = lambda q: vectorialModel.Consult(q, 7)\n",
    "p, r, f, f1, fl, t, _  = evaluate_model(relevant_fun, consult_fun)\n",
    "\n",
    "print(\"Precision:\", mean(p))\n",
    "print(\"Recall:\", mean(r))\n",
    "print(\"F metric:\", mean(f))\n",
    "print(\"F1 metric:\", mean(f1))\n",
    "print(\"Fallout:\", mean(fl))\n",
    "print(\"Time:\", mean(t), \"seg\")"
   ]
  },
  {
   "cell_type": "code",
   "execution_count": 55,
   "metadata": {},
   "outputs": [
    {
     "name": "stdout",
     "output_type": "stream",
     "text": [
      "Precision: 0.4901587301587301\n",
      "Recall: 0.4958406699391469\n",
      "F metric: 0.4973346012207624\n",
      "F1 metric: 0.4925626467368629\n",
      "Fallout: 0.002561774630623849\n",
      "Time: 0.3585397985246446 seg\n"
     ]
    }
   ],
   "source": [
    "relevant_fun = lambda q: [i[1] for i in q.relevant]\n",
    "def consult_fun(q, size=7, steps=10):\n",
    "    remarkable = vectorialModel.Consult(q, size)\n",
    "    relevant = relevant_fun(q)\n",
    "    for _ in range(steps):\n",
    "        retro_relevant = [d.id for d in remarkable if d.id in relevant]\n",
    "        retro_irrelevant = [d.id for d in remarkable if d.id not in relevant]\n",
    "        remarkable = vectorialModel.ReConsult(q, retro_relevant, retro_irrelevant, size)\n",
    "    return remarkable\n",
    "\n",
    "p, r, f, f1, fl, t, _  = evaluate_model(relevant_fun, consult_fun)\n",
    "\n",
    "print(\"Precision:\", mean(p))\n",
    "print(\"Recall:\", mean(r))\n",
    "print(\"F metric:\", mean(f))\n",
    "print(\"F1 metric:\", mean(f1))\n",
    "print(\"Fallout:\", mean(fl))\n",
    "print(\"Time:\", mean(t), \"seg\")"
   ]
  },
  {
   "cell_type": "code",
   "execution_count": 61,
   "metadata": {},
   "outputs": [
    {
     "data": {
      "image/png": "[encoded data removed]",
      "text/plain": [
       "<Figure size 432x288 with 1 Axes>"
      ]
     },
     "metadata": {
      "needs_background": "light"
     },
     "output_type": "display_data"
    },
    {
     "data": {
      "image/png": "[encoded data removed]",
      "text/plain": [
       "<Figure size 432x288 with 1 Axes>"
      ]
     },
     "metadata": {
      "needs_background": "light"
     },
     "output_type": "display_data"
    }
   ],
   "source": [
    "x = np.arange(3, 10)\n",
    "ps, rs, fs, f1s, fls = [], [], [], [], []\n",
    "relevant_fun = lambda q: [i[1] for i in q.relevant]\n",
    "def consult_fun(q, size=7, steps=10):\n",
    "    remarkable = vectorialModel.Consult(q, size)\n",
    "    relevant = relevant_fun(q)\n",
    "    for _ in range(steps):\n",
    "        retro_relevant = [d.id for d in remarkable if d.id in relevant]\n",
    "        retro_irrelevant = [d.id for d in remarkable if d.id not in relevant]\n",
    "        remarkable = vectorialModel.ReConsult(q, retro_relevant, retro_irrelevant, size)\n",
    "    return remarkable\n",
    "\n",
    "for i in x:\n",
    "    wrapper = lambda q: consult_fun(q, size=int(i), steps=10)\n",
    "    p, r, f, f1, fl, _, _  = evaluate_model(relevant_fun, wrapper)\n",
    "    ps.append(mean(p))\n",
    "    rs.append(mean(r))\n",
    "    fs.append(mean(f))\n",
    "    f1s.append(mean(f1))\n",
    "    fls.append(mean(fl))\n",
    "\n",
    "plt.plot(x, ps, 'b', label='Precision')\n",
    "plt.plot(x, rs, 'r', label='Recall')\n",
    "plt.plot(x, fs, 'y', label='F metric')\n",
    "plt.plot(x, f1s, 'g', label='F1 metric')\n",
    "plt.legend()\n",
    "\n",
    "plt.figure()\n",
    "plt.plot(x, fls, 'b', label='Fallout')\n",
    "plt.legend()\n",
    "plt.show()"
   ]
  },
  {
   "cell_type": "markdown",
   "metadata": {},
   "source": [
    "# Probabilistic model"
   ]
  },
  {
   "cell_type": "code",
   "execution_count": 38,
   "metadata": {},
   "outputs": [],
   "source": [
    "probabilisticModel = ProbabilisticModel(documents)"
   ]
  },
  {
   "cell_type": "code",
   "execution_count": 18,
   "metadata": {},
   "outputs": [
    {
     "name": "stdout",
     "output_type": "stream",
     "text": [
      "Time: 0.09656340705023872 seg\n",
      "Mean Average Precision: 0.3066475060267732\n"
     ]
    }
   ],
   "source": [
    "relevant_fun = lambda q: [i[1] for i in q.relevant]\n",
    "consult_fun = probabilisticModel.Consult\n",
    "_, _, _, _, _, t, m  = evaluate_model(relevant_fun, consult_fun)\n",
    "\n",
    "print(\"Time:\", mean(t), \"seg\")\n",
    "print(\"Mean Average Precision:\", mean(m))"
   ]
  },
  {
   "cell_type": "code",
   "execution_count": 19,
   "metadata": {},
   "outputs": [
    {
     "data": {
      "image/png": "[encoded data removed]",
      "text/plain": [
       "<Figure size 432x288 with 1 Axes>"
      ]
     },
     "metadata": {
      "needs_background": "light"
     },
     "output_type": "display_data"
    },
    {
     "data": {
      "image/png": "[encoded data removed]",
      "text/plain": [
       "<Figure size 432x288 with 1 Axes>"
      ]
     },
     "metadata": {
      "needs_background": "light"
     },
     "output_type": "display_data"
    }
   ],
   "source": [
    "x = np.arange(3, 20)\n",
    "ps, rs, fs, f1s, fls = [], [], [], [], []\n",
    "\n",
    "for i in x:\n",
    "    relevant_fun = lambda q: [i[1] for i in q.relevant]\n",
    "    consult_fun = lambda q: probabilisticModel.Consult(q, i)\n",
    "    p, r, f, f1, fl, _, _  = evaluate_model(relevant_fun, consult_fun)\n",
    "    ps.append(mean(p))\n",
    "    rs.append(mean(r))\n",
    "    fs.append(mean(f))\n",
    "    f1s.append(mean(f1))\n",
    "    fls.append(mean(fl))\n",
    "\n",
    "plt.plot(x, ps, 'b', label='Precision')\n",
    "plt.plot(x, rs, 'r', label='Recall')\n",
    "plt.plot(x, fs, 'y', label='F metric')\n",
    "plt.plot(x, f1s, 'g', label='F1 metric')\n",
    "plt.legend()\n",
    "\n",
    "plt.figure()\n",
    "plt.plot(x, fls, 'b', label='Fallout')\n",
    "plt.legend()\n",
    "plt.show()"
   ]
  },
  {
   "cell_type": "code",
   "execution_count": 39,
   "metadata": {},
   "outputs": [
    {
     "name": "stdout",
     "output_type": "stream",
     "text": [
      "Precision: 0.30148148148148146\n",
      "Recall: 0.28354333332389275\n",
      "F metric: 0.32527967205110536\n",
      "F1 metric: 0.32558353003192786\n",
      "Fallout: 0.0030106663594186775\n",
      "Time: 0.09261726273430718 seg\n"
     ]
    }
   ],
   "source": [
    "relevant_fun = lambda q: [i[1] for i in q.relevant]\n",
    "consult_fun = lambda q: probabilisticModel.Consult(q, 6)\n",
    "p, r, f, f1, fl, t, _  = evaluate_model(relevant_fun, consult_fun)\n",
    "\n",
    "print(\"Precision:\", mean(p))\n",
    "print(\"Recall:\", mean(r))\n",
    "print(\"F metric:\", mean(f))\n",
    "print(\"F1 metric:\", mean(f1))\n",
    "print(\"Fallout:\", mean(fl))\n",
    "print(\"Time:\", mean(t), \"seg\")"
   ]
  },
  {
   "cell_type": "code",
   "execution_count": 26,
   "metadata": {},
   "outputs": [
    {
     "name": "stdout",
     "output_type": "stream",
     "text": [
      "Time: 0.8800094148847792 seg\n"
     ]
    }
   ],
   "source": [
    "relevant_fun = lambda q: [i[1] for i in q.relevant]\n",
    "consult_fun = lambda q: probabilisticModel.Consult(q, size=20, retroalimentation=10)\n",
    "_, _, _, _, _, t, _  = evaluate_model(relevant_fun, consult_fun)\n",
    "\n",
    "print(\"Time:\", mean(t), \"seg\")"
   ]
  },
  {
   "cell_type": "code",
   "execution_count": 25,
   "metadata": {},
   "outputs": [
    {
     "data": {
      "image/png": "[encoded data removed]",
      "text/plain": [
       "<Figure size 432x288 with 1 Axes>"
      ]
     },
     "metadata": {
      "needs_background": "light"
     },
     "output_type": "display_data"
    },
    {
     "data": {
      "image/png": "[encoded data removed]",
      "text/plain": [
       "<Figure size 432x288 with 1 Axes>"
      ]
     },
     "metadata": {
      "needs_background": "light"
     },
     "output_type": "display_data"
    }
   ],
   "source": [
    "x = np.arange(3, 20)\n",
    "ps, rs, fs, f1s, fls = [], [], [], [], []\n",
    "\n",
    "for i in x:\n",
    "    relevant_fun = lambda q: [i[1] for i in q.relevant]\n",
    "    consult_fun = lambda q: probabilisticModel.Consult(q, size=int(i), retroalimentation=5)\n",
    "    p, r, f, f1, fl, _, _  = evaluate_model(relevant_fun, consult_fun)\n",
    "    ps.append(mean(p))\n",
    "    rs.append(mean(r))\n",
    "    fs.append(mean(f))\n",
    "    f1s.append(mean(f1))\n",
    "    fls.append(mean(fl))\n",
    "\n",
    "plt.plot(x, ps, 'b', label='Precision')\n",
    "plt.plot(x, rs, 'r', label='Recall')\n",
    "plt.plot(x, fs, 'y', label='F metric')\n",
    "plt.plot(x, f1s, 'g', label='F1 metric')\n",
    "plt.legend()\n",
    "\n",
    "plt.figure()\n",
    "plt.plot(x, fls, 'b', label='Fallout')\n",
    "plt.legend()\n",
    "plt.show()"
   ]
  },
  {
   "cell_type": "code",
   "execution_count": 40,
   "metadata": {},
   "outputs": [
    {
     "name": "stdout",
     "output_type": "stream",
     "text": [
      "Precision: 0.27629629629629626\n",
      "Recall: 0.2508183538609146\n",
      "F metric: 0.3323657525099194\n",
      "F1 metric: 0.33445335995499215\n",
      "Fallout: 0.003119042129239039\n",
      "Time: 1.838283174302843 seg\n"
     ]
    }
   ],
   "source": [
    "relevant_fun = lambda q: [i[1] for i in q.relevant]\n",
    "consult_fun = lambda q: probabilisticModel.Consult(q, 6, 20)\n",
    "p, r, f, f1, fl, t, _  = evaluate_model(relevant_fun, consult_fun)\n",
    "\n",
    "print(\"Precision:\", mean(p))\n",
    "print(\"Recall:\", mean(r))\n",
    "print(\"F metric:\", mean(f))\n",
    "print(\"F1 metric:\", mean(f1))\n",
    "print(\"Fallout:\", mean(fl))\n",
    "print(\"Time:\", mean(t), \"seg\")"
   ]
  },
  {
   "cell_type": "markdown",
   "metadata": {},
   "source": [
    "# Conclusions"
   ]
  },
  {
   "cell_type": "code",
   "execution_count": 70,
   "metadata": {},
   "outputs": [],
   "source": [
    "names = []\n",
    "precision = []\n",
    "recall = []\n",
    "fmetric = []\n",
    "f1metric = []\n",
    "fallout = []\n",
    "tme = []\n",
    "mp = []"
   ]
  },
  {
   "cell_type": "code",
   "execution_count": 71,
   "metadata": {},
   "outputs": [],
   "source": [
    "booleanModel = BooleanModel(documents)\n",
    "relevant_fun = lambda q: [i[1] for i in q.relevant if i[2] == 1]\n",
    "consult_fun = booleanModel.Consult\n",
    "p, r, f, f1, fl, t, _  = evaluate_model(relevant_fun, consult_fun)\n",
    "\n",
    "names.append('Boolean Model')\n",
    "precision.append(mean(p))\n",
    "recall.append(mean(r))\n",
    "fmetric.append(mean(f))\n",
    "f1metric.append(mean(f1))\n",
    "fallout.append(mean(fl))\n",
    "tme.append(mean(t))\n",
    "mp.append(None)"
   ]
  },
  {
   "cell_type": "code",
   "execution_count": 72,
   "metadata": {},
   "outputs": [],
   "source": [
    "vectorialModel = VectorialModel(documents)\n",
    "relevant_fun = lambda q: [i[1] for i in q.relevant]\n",
    "consult_fun = vectorialModel.Consult\n",
    "_, _, _, _, _, _, m  = evaluate_model(relevant_fun, consult_fun)\n",
    "consult_fun = lambda q: vectorialModel.Consult(q, 7)\n",
    "p, r, f, f1, fl, t, _  = evaluate_model(relevant_fun, consult_fun)\n",
    "\n",
    "names.append('Vectorial Model (classic)')\n",
    "precision.append(mean(p))\n",
    "recall.append(mean(r))\n",
    "fmetric.append(mean(f))\n",
    "f1metric.append(mean(f1))\n",
    "fallout.append(mean(fl))\n",
    "tme.append(mean(t))\n",
    "mp.append(mean(m))"
   ]
  },
  {
   "cell_type": "code",
   "execution_count": 101,
   "metadata": {},
   "outputs": [
    {
     "name": "stderr",
     "output_type": "stream",
     "text": [
      "/home/adrian/PycharmProjects/SRI/core/vectorial/VectorialConsultor.py:20: RuntimeWarning: invalid value encountered in double_scalars\n",
      "  else: rcentroid = np.sum([d for d in relevant], axis=0) / len(relevant)\n",
      "/home/adrian/PycharmProjects/SRI/core/vectorial/VectorialConsultor.py:19: RuntimeWarning: invalid value encountered in double_scalars\n",
      "  if len(relevant) == 0: rcentroid = np.zeros(len(query))\n"
     ]
    }
   ],
   "source": [
    "vectorialModel = VectorialModel(documents)\n",
    "relevant_fun = lambda q: [i[1] for i in q.relevant]\n",
    "def consult_fun(q, size=7, steps=10):\n",
    "    remarkable = vectorialModel.Consult(q, size)\n",
    "    relevant = relevant_fun(q)\n",
    "    for _ in range(steps):\n",
    "        retro_relevant = [d.id for d in remarkable if d.id in relevant]\n",
    "        retro_irrelevant = [d.id for d in remarkable if d.id not in relevant]\n",
    "        remarkable = vectorialModel.ReConsult(q, retro_relevant, retro_irrelevant, size)\n",
    "    return remarkable\n",
    "\n",
    "p, r, f, f1, fl, t, _  = evaluate_model(relevant_fun, consult_fun)\n",
    "\n",
    "names.append('Vectorial Model (with retroalimentation)')\n",
    "precision.append(mean(p))\n",
    "recall.append(mean(r))\n",
    "fmetric.append(mean(f))\n",
    "f1metric.append(mean(f1))\n",
    "fallout.append(mean(fl))\n",
    "tme.append(mean(t))\n",
    "mp.append(None)"
   ]
  },
  {
   "cell_type": "code",
   "execution_count": 76,
   "metadata": {},
   "outputs": [],
   "source": [
    "probabilisticModel = ProbabilisticModel(documents)\n",
    "relevant_fun = lambda q: [i[1] for i in q.relevant]\n",
    "consult_fun = probabilisticModel.Consult\n",
    "_, _, _, _, _, _, m  = evaluate_model(relevant_fun, consult_fun)\n",
    "relevant_fun = lambda q: [i[1] for i in q.relevant]\n",
    "consult_fun = lambda q: probabilisticModel.Consult(q, 6)\n",
    "p, r, f, f1, fl, t, _  = evaluate_model(relevant_fun, consult_fun)\n",
    "\n",
    "names.append('Probabilistic Model (classic)')\n",
    "precision.append(mean(p))\n",
    "recall.append(mean(r))\n",
    "fmetric.append(mean(f))\n",
    "f1metric.append(mean(f1))\n",
    "fallout.append(mean(fl))\n",
    "tme.append(mean(t))\n",
    "mp.append(mean(m))"
   ]
  },
  {
   "cell_type": "code",
   "execution_count": null,
   "metadata": {},
   "outputs": [],
   "source": [
    "probabilisticModel = ProbabilisticModel(documents)\n",
    "relevant_fun = lambda q: [i[1] for i in q.relevant]\n",
    "consult_fun = lambda q: probabilisticModel.Consult(q, 7, 20)\n",
    "p, r, f, f1, fl, t, _  = evaluate_model(relevant_fun, consult_fun)\n",
    "\n",
    "names.append('Probabilistic Model (with retroalimentation)')\n",
    "precision.append(mean(p))\n",
    "recall.append(mean(r))\n",
    "fmetric.append(mean(f))\n",
    "f1metric.append(mean(f1))\n",
    "fallout.append(mean(fl))\n",
    "tme.append(mean(t))\n",
    "mp.append(None)"
   ]
  },
  {
   "cell_type": "code",
   "execution_count": 102,
   "metadata": {},
   "outputs": [
    {
     "data": {
      "text/html": [
       "<div>\n",
       "<style scoped>\n",
       "    .dataframe tbody tr th:only-of-type {\n",
       "        vertical-align: middle;\n",
       "    }\n",
       "\n",
       "    .dataframe tbody tr th {\n",
       "        vertical-align: top;\n",
       "    }\n",
       "\n",
       "    .dataframe thead th {\n",
       "        text-align: right;\n",
       "    }\n",
       "</style>\n",
       "<table border=\"1\" class=\"dataframe\">\n",
       "  <thead>\n",
       "    <tr style=\"text-align: right;\">\n",
       "      <th></th>\n",
       "      <th>Model</th>\n",
       "      <th>Precision</th>\n",
       "      <th>Recall</th>\n",
       "      <th>F metric</th>\n",
       "      <th>F1 metric</th>\n",
       "      <th>Fallout</th>\n",
       "      <th>Time</th>\n",
       "      <th>Medium Average Precision</th>\n",
       "    </tr>\n",
       "  </thead>\n",
       "  <tbody>\n",
       "    <tr>\n",
       "      <th>0</th>\n",
       "      <td>Boolean Model</td>\n",
       "      <td>0.687556</td>\n",
       "      <td>0.694815</td>\n",
       "      <td>0.987917</td>\n",
       "      <td>0.986958</td>\n",
       "      <td>0.000114</td>\n",
       "      <td>0.083706</td>\n",
       "      <td>NaN</td>\n",
       "    </tr>\n",
       "    <tr>\n",
       "      <th>1</th>\n",
       "      <td>Vectorial Model (classic)</td>\n",
       "      <td>0.375873</td>\n",
       "      <td>0.386385</td>\n",
       "      <td>0.383725</td>\n",
       "      <td>0.378882</td>\n",
       "      <td>0.003137</td>\n",
       "      <td>0.030605</td>\n",
       "      <td>0.412955</td>\n",
       "    </tr>\n",
       "    <tr>\n",
       "      <th>2</th>\n",
       "      <td>Probabilistic Model (classic)</td>\n",
       "      <td>0.301481</td>\n",
       "      <td>0.283543</td>\n",
       "      <td>0.325280</td>\n",
       "      <td>0.325584</td>\n",
       "      <td>0.003011</td>\n",
       "      <td>0.100466</td>\n",
       "      <td>0.306648</td>\n",
       "    </tr>\n",
       "    <tr>\n",
       "      <th>3</th>\n",
       "      <td>Probabilistic Model (with retroalimentation)</td>\n",
       "      <td>0.262222</td>\n",
       "      <td>0.278114</td>\n",
       "      <td>0.332524</td>\n",
       "      <td>0.327048</td>\n",
       "      <td>0.003710</td>\n",
       "      <td>1.782366</td>\n",
       "      <td>NaN</td>\n",
       "    </tr>\n",
       "    <tr>\n",
       "      <th>4</th>\n",
       "      <td>Vectorial Model (with retroalimentation)</td>\n",
       "      <td>0.490159</td>\n",
       "      <td>0.495841</td>\n",
       "      <td>0.497335</td>\n",
       "      <td>0.492563</td>\n",
       "      <td>0.002562</td>\n",
       "      <td>0.342720</td>\n",
       "      <td>NaN</td>\n",
       "    </tr>\n",
       "  </tbody>\n",
       "</table>\n",
       "</div>"
      ],
      "text/plain": [
       "                                          Model  Precision    Recall  \\\n",
       "0                                 Boolean Model   0.687556  0.694815   \n",
       "1                     Vectorial Model (classic)   0.375873  0.386385   \n",
       "2                 Probabilistic Model (classic)   0.301481  0.283543   \n",
       "3  Probabilistic Model (with retroalimentation)   0.262222  0.278114   \n",
       "4      Vectorial Model (with retroalimentation)   0.490159  0.495841   \n",
       "\n",
       "   F metric  F1 metric   Fallout      Time  Medium Average Precision  \n",
       "0  0.987917   0.986958  0.000114  0.083706                       NaN  \n",
       "1  0.383725   0.378882  0.003137  0.030605                  0.412955  \n",
       "2  0.325280   0.325584  0.003011  0.100466                  0.306648  \n",
       "3  0.332524   0.327048  0.003710  1.782366                       NaN  \n",
       "4  0.497335   0.492563  0.002562  0.342720                       NaN  "
      ]
     },
     "metadata": {},
     "output_type": "display_data"
    }
   ],
   "source": [
    "from IPython.display import display\n",
    "import pandas as pd\n",
    "  \n",
    "# creating a DataFrame\n",
    "dct = {'Model' : names,\n",
    "        'Precision' : precision,\n",
    "        'Recall' : recall,\n",
    "        'F metric': fmetric,\n",
    "        'F1 metric': f1metric,\n",
    "        'Fallout': fallout,\n",
    "        'Time': tme,\n",
    "        'Medium Average Precision': mp\n",
    "       }\n",
    "df = pd.DataFrame(dct)\n",
    "  \n",
    "# displaying the DataFrame\n",
    "display(df)"
   ]
  },
  {
   "cell_type": "code",
   "execution_count": null,
   "metadata": {},
   "outputs": [],
   "source": []
  }
 ],
 "metadata": {
  "kernelspec": {
   "display_name": "Python 3",
   "language": "python",
   "name": "python3"
  },
  "language_info": {
   "codemirror_mode": {
    "name": "ipython",
    "version": 3
   },
   "file_extension": ".py",
   "mimetype": "text/x-python",
   "name": "python",
   "nbconvert_exporter": "python",
   "pygments_lexer": "ipython3",
   "version": "3.6.9"
  }
 },
 "nbformat": 4,
 "nbformat_minor": 4
}
